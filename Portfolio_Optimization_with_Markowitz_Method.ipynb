{
  "nbformat": 4,
  "nbformat_minor": 0,
  "metadata": {
    "colab": {
      "name": "Portfolio Optimization with Markowitz Method.ipynb",
      "provenance": [],
      "authorship_tag": "ABX9TyN4hcjpDEUBybqqqG+OOCcl",
      "include_colab_link": true
    },
    "kernelspec": {
      "name": "python3",
      "display_name": "Python 3"
    }
  },
  "cells": [
    {
      "cell_type": "markdown",
      "metadata": {
        "id": "view-in-github",
        "colab_type": "text"
      },
      "source": [
        "<a href=\"https://colab.research.google.com/github/keskinyasir/Portfolio-Optimization-with-Markowitz-Method/blob/main/Portfolio_Optimization_with_Markowitz_Method.ipynb\" target=\"_parent\"><img src=\"https://colab.research.google.com/assets/colab-badge.svg\" alt=\"Open In Colab\"/></a>"
      ]
    },
    {
      "cell_type": "code",
      "metadata": {
        "id": "7ZLWtEOv4YR7"
      },
      "source": [
        "import pandas as pd\n",
        "import numpy as np\n",
        "import matplotlib.pyplot as plt\n",
        "from scipy.optimize import minimize\n"
      ],
      "execution_count": 31,
      "outputs": []
    },
    {
      "cell_type": "code",
      "metadata": {
        "id": "gUk2zuQJ4-4f"
      },
      "source": [
        "voo_data = pd.read_csv('VOO.csv')\n",
        "blv_data = pd.read_csv('BLV.csv')"
      ],
      "execution_count": 35,
      "outputs": []
    },
    {
      "cell_type": "code",
      "metadata": {
        "colab": {
          "base_uri": "https://localhost:8080/",
          "height": 195
        },
        "id": "kkPXmhep5M8_",
        "outputId": "a390b6d9-a7dd-462e-8bf4-2c9587c98459"
      },
      "source": [
        "voo_data.head()"
      ],
      "execution_count": 36,
      "outputs": [
        {
          "output_type": "execute_result",
          "data": {
            "text/html": [
              "<div>\n",
              "<style scoped>\n",
              "    .dataframe tbody tr th:only-of-type {\n",
              "        vertical-align: middle;\n",
              "    }\n",
              "\n",
              "    .dataframe tbody tr th {\n",
              "        vertical-align: top;\n",
              "    }\n",
              "\n",
              "    .dataframe thead th {\n",
              "        text-align: right;\n",
              "    }\n",
              "</style>\n",
              "<table border=\"1\" class=\"dataframe\">\n",
              "  <thead>\n",
              "    <tr style=\"text-align: right;\">\n",
              "      <th></th>\n",
              "      <th>Date</th>\n",
              "      <th>Open</th>\n",
              "      <th>High</th>\n",
              "      <th>Low</th>\n",
              "      <th>Close</th>\n",
              "      <th>Adj Close</th>\n",
              "      <th>Volume</th>\n",
              "    </tr>\n",
              "  </thead>\n",
              "  <tbody>\n",
              "    <tr>\n",
              "      <th>0</th>\n",
              "      <td>2015-12-03</td>\n",
              "      <td>191.559998</td>\n",
              "      <td>191.750000</td>\n",
              "      <td>187.729996</td>\n",
              "      <td>188.460007</td>\n",
              "      <td>170.580139</td>\n",
              "      <td>2724400</td>\n",
              "    </tr>\n",
              "    <tr>\n",
              "      <th>1</th>\n",
              "      <td>2015-12-04</td>\n",
              "      <td>188.990005</td>\n",
              "      <td>192.520004</td>\n",
              "      <td>188.839996</td>\n",
              "      <td>192.160004</td>\n",
              "      <td>173.929108</td>\n",
              "      <td>2900700</td>\n",
              "    </tr>\n",
              "    <tr>\n",
              "      <th>2</th>\n",
              "      <td>2015-12-07</td>\n",
              "      <td>191.880005</td>\n",
              "      <td>191.880005</td>\n",
              "      <td>189.979996</td>\n",
              "      <td>190.949997</td>\n",
              "      <td>172.833939</td>\n",
              "      <td>1752800</td>\n",
              "    </tr>\n",
              "    <tr>\n",
              "      <th>3</th>\n",
              "      <td>2015-12-08</td>\n",
              "      <td>189.250000</td>\n",
              "      <td>190.720001</td>\n",
              "      <td>188.669998</td>\n",
              "      <td>189.729996</td>\n",
              "      <td>171.729660</td>\n",
              "      <td>1721700</td>\n",
              "    </tr>\n",
              "    <tr>\n",
              "      <th>4</th>\n",
              "      <td>2015-12-09</td>\n",
              "      <td>189.119995</td>\n",
              "      <td>191.320007</td>\n",
              "      <td>187.199997</td>\n",
              "      <td>188.309998</td>\n",
              "      <td>170.444351</td>\n",
              "      <td>4500300</td>\n",
              "    </tr>\n",
              "  </tbody>\n",
              "</table>\n",
              "</div>"
            ],
            "text/plain": [
              "         Date        Open        High  ...       Close   Adj Close   Volume\n",
              "0  2015-12-03  191.559998  191.750000  ...  188.460007  170.580139  2724400\n",
              "1  2015-12-04  188.990005  192.520004  ...  192.160004  173.929108  2900700\n",
              "2  2015-12-07  191.880005  191.880005  ...  190.949997  172.833939  1752800\n",
              "3  2015-12-08  189.250000  190.720001  ...  189.729996  171.729660  1721700\n",
              "4  2015-12-09  189.119995  191.320007  ...  188.309998  170.444351  4500300\n",
              "\n",
              "[5 rows x 7 columns]"
            ]
          },
          "metadata": {
            "tags": []
          },
          "execution_count": 36
        }
      ]
    },
    {
      "cell_type": "code",
      "metadata": {
        "colab": {
          "base_uri": "https://localhost:8080/",
          "height": 195
        },
        "id": "HlfZ0eU_5TMH",
        "outputId": "152e6127-fed3-45a7-9b6e-7412e3236e3a"
      },
      "source": [
        "blv_data.head()"
      ],
      "execution_count": 37,
      "outputs": [
        {
          "output_type": "execute_result",
          "data": {
            "text/html": [
              "<div>\n",
              "<style scoped>\n",
              "    .dataframe tbody tr th:only-of-type {\n",
              "        vertical-align: middle;\n",
              "    }\n",
              "\n",
              "    .dataframe tbody tr th {\n",
              "        vertical-align: top;\n",
              "    }\n",
              "\n",
              "    .dataframe thead th {\n",
              "        text-align: right;\n",
              "    }\n",
              "</style>\n",
              "<table border=\"1\" class=\"dataframe\">\n",
              "  <thead>\n",
              "    <tr style=\"text-align: right;\">\n",
              "      <th></th>\n",
              "      <th>Date</th>\n",
              "      <th>Open</th>\n",
              "      <th>High</th>\n",
              "      <th>Low</th>\n",
              "      <th>Close</th>\n",
              "      <th>Adj Close</th>\n",
              "      <th>Volume</th>\n",
              "    </tr>\n",
              "  </thead>\n",
              "  <tbody>\n",
              "    <tr>\n",
              "      <th>0</th>\n",
              "      <td>2015-12-03</td>\n",
              "      <td>88.529999</td>\n",
              "      <td>88.529999</td>\n",
              "      <td>87.120003</td>\n",
              "      <td>87.349998</td>\n",
              "      <td>72.290436</td>\n",
              "      <td>131900</td>\n",
              "    </tr>\n",
              "    <tr>\n",
              "      <th>1</th>\n",
              "      <td>2015-12-04</td>\n",
              "      <td>87.349998</td>\n",
              "      <td>88.120003</td>\n",
              "      <td>87.300003</td>\n",
              "      <td>87.870003</td>\n",
              "      <td>72.720779</td>\n",
              "      <td>204400</td>\n",
              "    </tr>\n",
              "    <tr>\n",
              "      <th>2</th>\n",
              "      <td>2015-12-07</td>\n",
              "      <td>88.000000</td>\n",
              "      <td>88.800003</td>\n",
              "      <td>87.889999</td>\n",
              "      <td>88.400002</td>\n",
              "      <td>73.159401</td>\n",
              "      <td>103700</td>\n",
              "    </tr>\n",
              "    <tr>\n",
              "      <th>3</th>\n",
              "      <td>2015-12-08</td>\n",
              "      <td>88.489998</td>\n",
              "      <td>88.629997</td>\n",
              "      <td>88.000000</td>\n",
              "      <td>88.250000</td>\n",
              "      <td>73.035248</td>\n",
              "      <td>110200</td>\n",
              "    </tr>\n",
              "    <tr>\n",
              "      <th>4</th>\n",
              "      <td>2015-12-09</td>\n",
              "      <td>88.110001</td>\n",
              "      <td>88.510002</td>\n",
              "      <td>87.599998</td>\n",
              "      <td>88.250000</td>\n",
              "      <td>73.035248</td>\n",
              "      <td>212500</td>\n",
              "    </tr>\n",
              "  </tbody>\n",
              "</table>\n",
              "</div>"
            ],
            "text/plain": [
              "         Date       Open       High        Low      Close  Adj Close  Volume\n",
              "0  2015-12-03  88.529999  88.529999  87.120003  87.349998  72.290436  131900\n",
              "1  2015-12-04  87.349998  88.120003  87.300003  87.870003  72.720779  204400\n",
              "2  2015-12-07  88.000000  88.800003  87.889999  88.400002  73.159401  103700\n",
              "3  2015-12-08  88.489998  88.629997  88.000000  88.250000  73.035248  110200\n",
              "4  2015-12-09  88.110001  88.510002  87.599998  88.250000  73.035248  212500"
            ]
          },
          "metadata": {
            "tags": []
          },
          "execution_count": 37
        }
      ]
    },
    {
      "cell_type": "code",
      "metadata": {
        "id": "I4uOxFMV5WGN"
      },
      "source": [
        "date = voo_data.iloc[:, [0]]\n",
        "voo_adjusted = voo_data.iloc[:, [5]]\n",
        "blv_adjusted = blv_data.iloc[:, [5]]"
      ],
      "execution_count": 38,
      "outputs": []
    },
    {
      "cell_type": "code",
      "metadata": {
        "colab": {
          "base_uri": "https://localhost:8080/",
          "height": 195
        },
        "id": "CDt1MB626XSQ",
        "outputId": "9393eb4a-004f-4b76-d756-9b3cf22a44fd"
      },
      "source": [
        "portfolio = pd.concat([date, voo_adjusted, blv_adjusted], axis=1)\n",
        "portfolio.columns = ['DATE', 'VOO', 'BLV']\n",
        "portfolio_log = portfolio.iloc[:, [1, 2]]\n",
        "portfolio.head()"
      ],
      "execution_count": 39,
      "outputs": [
        {
          "output_type": "execute_result",
          "data": {
            "text/html": [
              "<div>\n",
              "<style scoped>\n",
              "    .dataframe tbody tr th:only-of-type {\n",
              "        vertical-align: middle;\n",
              "    }\n",
              "\n",
              "    .dataframe tbody tr th {\n",
              "        vertical-align: top;\n",
              "    }\n",
              "\n",
              "    .dataframe thead th {\n",
              "        text-align: right;\n",
              "    }\n",
              "</style>\n",
              "<table border=\"1\" class=\"dataframe\">\n",
              "  <thead>\n",
              "    <tr style=\"text-align: right;\">\n",
              "      <th></th>\n",
              "      <th>DATE</th>\n",
              "      <th>VOO</th>\n",
              "      <th>BLV</th>\n",
              "    </tr>\n",
              "  </thead>\n",
              "  <tbody>\n",
              "    <tr>\n",
              "      <th>0</th>\n",
              "      <td>2015-12-03</td>\n",
              "      <td>170.580139</td>\n",
              "      <td>72.290436</td>\n",
              "    </tr>\n",
              "    <tr>\n",
              "      <th>1</th>\n",
              "      <td>2015-12-04</td>\n",
              "      <td>173.929108</td>\n",
              "      <td>72.720779</td>\n",
              "    </tr>\n",
              "    <tr>\n",
              "      <th>2</th>\n",
              "      <td>2015-12-07</td>\n",
              "      <td>172.833939</td>\n",
              "      <td>73.159401</td>\n",
              "    </tr>\n",
              "    <tr>\n",
              "      <th>3</th>\n",
              "      <td>2015-12-08</td>\n",
              "      <td>171.729660</td>\n",
              "      <td>73.035248</td>\n",
              "    </tr>\n",
              "    <tr>\n",
              "      <th>4</th>\n",
              "      <td>2015-12-09</td>\n",
              "      <td>170.444351</td>\n",
              "      <td>73.035248</td>\n",
              "    </tr>\n",
              "  </tbody>\n",
              "</table>\n",
              "</div>"
            ],
            "text/plain": [
              "         DATE         VOO        BLV\n",
              "0  2015-12-03  170.580139  72.290436\n",
              "1  2015-12-04  173.929108  72.720779\n",
              "2  2015-12-07  172.833939  73.159401\n",
              "3  2015-12-08  171.729660  73.035248\n",
              "4  2015-12-09  170.444351  73.035248"
            ]
          },
          "metadata": {
            "tags": []
          },
          "execution_count": 39
        }
      ]
    },
    {
      "cell_type": "code",
      "metadata": {
        "colab": {
          "base_uri": "https://localhost:8080/",
          "height": 195
        },
        "id": "qWxwYMtb7HcJ",
        "outputId": "dbe2165f-5f54-44ee-fc65-712834897aef"
      },
      "source": [
        "log_return = np.log(portfolio_log/portfolio_log.shift(1))\n",
        "log_return.head()"
      ],
      "execution_count": 40,
      "outputs": [
        {
          "output_type": "execute_result",
          "data": {
            "text/html": [
              "<div>\n",
              "<style scoped>\n",
              "    .dataframe tbody tr th:only-of-type {\n",
              "        vertical-align: middle;\n",
              "    }\n",
              "\n",
              "    .dataframe tbody tr th {\n",
              "        vertical-align: top;\n",
              "    }\n",
              "\n",
              "    .dataframe thead th {\n",
              "        text-align: right;\n",
              "    }\n",
              "</style>\n",
              "<table border=\"1\" class=\"dataframe\">\n",
              "  <thead>\n",
              "    <tr style=\"text-align: right;\">\n",
              "      <th></th>\n",
              "      <th>VOO</th>\n",
              "      <th>BLV</th>\n",
              "    </tr>\n",
              "  </thead>\n",
              "  <tbody>\n",
              "    <tr>\n",
              "      <th>0</th>\n",
              "      <td>NaN</td>\n",
              "      <td>NaN</td>\n",
              "    </tr>\n",
              "    <tr>\n",
              "      <th>1</th>\n",
              "      <td>0.019443</td>\n",
              "      <td>0.005935</td>\n",
              "    </tr>\n",
              "    <tr>\n",
              "      <th>2</th>\n",
              "      <td>-0.006317</td>\n",
              "      <td>0.006013</td>\n",
              "    </tr>\n",
              "    <tr>\n",
              "      <th>3</th>\n",
              "      <td>-0.006410</td>\n",
              "      <td>-0.001698</td>\n",
              "    </tr>\n",
              "    <tr>\n",
              "      <th>4</th>\n",
              "      <td>-0.007513</td>\n",
              "      <td>0.000000</td>\n",
              "    </tr>\n",
              "  </tbody>\n",
              "</table>\n",
              "</div>"
            ],
            "text/plain": [
              "        VOO       BLV\n",
              "0       NaN       NaN\n",
              "1  0.019443  0.005935\n",
              "2 -0.006317  0.006013\n",
              "3 -0.006410 -0.001698\n",
              "4 -0.007513  0.000000"
            ]
          },
          "metadata": {
            "tags": []
          },
          "execution_count": 40
        }
      ]
    },
    {
      "cell_type": "code",
      "metadata": {
        "id": "6-YKx9cT8dOR"
      },
      "source": [
        "np.random.seed(17)\n",
        "num_ports = 1000\n",
        "all_weights = np.zeros((num_ports, len(portfolio_log.columns)))\n",
        "ret_arr = np.zeros(num_ports)\n",
        "vol_arr = np.zeros(num_ports)\n",
        "sharpe_arr = np.zeros(num_ports)\n",
        "\n",
        "for x in range(num_ports):\n",
        "  weights = np.array(np.random.random(2))\n",
        "  weights = weights/np.sum(weights)\n",
        "\n",
        "  all_weights[x,:] = weights\n",
        "  \n",
        "  ret_arr[x] = np.sum((log_return.mean()*weights*252))\n",
        "\n",
        "  vol_arr[x] = np.sqrt(np.dot(weights.T, np.dot(log_return.cov()*252, weights)))\n",
        "\n",
        "  sharpe_arr[x] = ret_arr[x]/vol_arr[x]"
      ],
      "execution_count": 91,
      "outputs": []
    },
    {
      "cell_type": "code",
      "metadata": {
        "colab": {
          "base_uri": "https://localhost:8080/"
        },
        "id": "QiQYixWn0HME",
        "outputId": "2fcbed8e-6a54-4f11-fb86-71362340cce6"
      },
      "source": [
        "print(\"Maximum Sharpe Ratio in the array : {}\".format(sharpe_arr.max()))\n",
        "print(\"It is location array : {}\".format(sharpe_arr.argmax()))"
      ],
      "execution_count": 92,
      "outputs": [
        {
          "output_type": "stream",
          "text": [
            "Maximum Sharpe Ratio in the array : 1.0996980266977032\n",
            "It is location array : 407\n"
          ],
          "name": "stdout"
        }
      ]
    },
    {
      "cell_type": "code",
      "metadata": {
        "colab": {
          "base_uri": "https://localhost:8080/"
        },
        "id": "GmL2ZeCvkLa4",
        "outputId": "1fb95f2d-1f6f-4473-da4b-058b71e60041"
      },
      "source": [
        "print(all_weights[407, :])\r\n",
        "\r\n",
        "max_sr_ret = ret_arr[sharpe_arr.argmax()]\r\n",
        "max_sr_vol = vol_arr[sharpe_arr.argmax()]"
      ],
      "execution_count": 93,
      "outputs": [
        {
          "output_type": "stream",
          "text": [
            "[0.32730598 0.67269402]\n"
          ],
          "name": "stdout"
        }
      ]
    },
    {
      "cell_type": "code",
      "metadata": {
        "colab": {
          "base_uri": "https://localhost:8080/",
          "height": 497
        },
        "id": "qyN3gHmYkviq",
        "outputId": "14952c91-b244-47a9-dfde-deafd8de171c"
      },
      "source": [
        "plt.figure(figsize=(12, 8))\r\n",
        "plt.scatter(vol_arr, ret_arr, c=sharpe_arr, cmap=\"viridis\")\r\n",
        "plt.colorbar(label=\"Sharpe Ratio\")\r\n",
        "plt.xlabel(\"Volatility\")\r\n",
        "plt.ylabel(\"Return\")\r\n",
        "plt.scatter(max_sr_vol, max_sr_ret, c=\"red\", s=50)\r\n",
        "plt.show()"
      ],
      "execution_count": 94,
      "outputs": [
        {
          "output_type": "display_data",
          "data": {
            "image/png": "[encoded data removed]",
            "text/plain": [
              "<Figure size 864x576 with 2 Axes>"
            ]
          },
          "metadata": {
            "tags": [],
            "needs_background": "light"
          }
        }
      ]
    },
    {
      "cell_type": "code",
      "metadata": {
        "id": "Ge9B2Fhglup9"
      },
      "source": [
        "def get_ret_vol_sr(weights):\r\n",
        "  weights = np.array(weights)\r\n",
        "  ret = np.sum(log_return.mean()*weights* 252) \r\n",
        "  vol = np.sqrt(np.dot(weights.T, np.dot(log_return.cov()*252, weights)))\r\n",
        "  sr = ret / vol\r\n",
        "  return np.array([ret, vol, sr])\r\n",
        "\r\n",
        "def neg_sharpe(weights):\r\n",
        "  return get_ret_vol_sr(weights)[2] * -1\r\n",
        "\r\n",
        "def check_sum(weights):\r\n",
        "  return np.sum(weights)-1"
      ],
      "execution_count": 95,
      "outputs": []
    },
    {
      "cell_type": "code",
      "metadata": {
        "id": "HqGZcfNtodkN"
      },
      "source": [
        "cons = ({\"type\":\"eq\", \"fun\":check_sum})\r\n",
        "bounds = ((0,1),(0,1))\r\n",
        "init_guess = [0.25,0.25]"
      ],
      "execution_count": 96,
      "outputs": []
    },
    {
      "cell_type": "code",
      "metadata": {
        "colab": {
          "base_uri": "https://localhost:8080/"
        },
        "id": "m71UQfXX4oyx",
        "outputId": "68bba17d-2c20-42e1-fd77-329cb87ce7a9"
      },
      "source": [
        "opt_results = minimize(neg_sharpe, init_guess, method=\"slsqp\", bounds=bounds, constraints=cons)\r\n",
        "print(opt_results)"
      ],
      "execution_count": 97,
      "outputs": [
        {
          "output_type": "stream",
          "text": [
            "     fun: -1.0996980281279072\n",
            "     jac: array([-2.70158052e-05,  1.31577253e-05])\n",
            " message: 'Optimization terminated successfully.'\n",
            "    nfev: 21\n",
            "     nit: 5\n",
            "    njev: 5\n",
            "  status: 0\n",
            " success: True\n",
            "       x: array([0.32732196, 0.67267804])\n"
          ],
          "name": "stdout"
        }
      ]
    },
    {
      "cell_type": "code",
      "metadata": {
        "colab": {
          "base_uri": "https://localhost:8080/"
        },
        "id": "FA7EAv8ZpgJD",
        "outputId": "4761dd8f-c210-4844-8dc4-aa712f7b0d23"
      },
      "source": [
        "get_ret_vol_sr(opt_results.x)"
      ],
      "execution_count": 98,
      "outputs": [
        {
          "output_type": "execute_result",
          "data": {
            "text/plain": [
              "array([0.10314615, 0.09379497, 1.09969803])"
            ]
          },
          "metadata": {
            "tags": []
          },
          "execution_count": 98
        }
      ]
    },
    {
      "cell_type": "code",
      "metadata": {
        "id": "jIjgditlCunx"
      },
      "source": [
        "frontier_y = np.linspace(0, 0.2, 200)"
      ],
      "execution_count": 99,
      "outputs": []
    },
    {
      "cell_type": "code",
      "metadata": {
        "id": "BMR2Pu8KENn1"
      },
      "source": [
        "def minimize_volatility(weights):\r\n",
        "  return get_ret_vol_sr(weights)[1]"
      ],
      "execution_count": 100,
      "outputs": []
    },
    {
      "cell_type": "code",
      "metadata": {
        "id": "cPEcaSYBEYlP"
      },
      "source": [
        "frontier_x = []\r\n",
        "\r\n",
        "for possible_return in frontier_y:\r\n",
        "    cons = ({'type':'eq', 'fun':check_sum},\r\n",
        "            {'type':'eq', 'fun': lambda w: get_ret_vol_sr(w)[0] - possible_return})\r\n",
        "    \r\n",
        "    result = minimize(minimize_volatility,init_guess,method='SLSQP', bounds=bounds, constraints=cons)\r\n",
        "    frontier_x.append(result['fun'])"
      ],
      "execution_count": 101,
      "outputs": []
    },
    {
      "cell_type": "code",
      "metadata": {
        "colab": {
          "base_uri": "https://localhost:8080/",
          "height": 497
        },
        "id": "y1LqcYiHEpK_",
        "outputId": "f488314d-d4b8-405c-d697-f788f909aa47"
      },
      "source": [
        "plt.figure(figsize=(12,8))\r\n",
        "plt.scatter(vol_arr, ret_arr, c=sharpe_arr, cmap='viridis')\r\n",
        "plt.colorbar(label='Sharpe Ratio')\r\n",
        "plt.xlabel('Volatility')\r\n",
        "plt.ylabel('Return')\r\n",
        "plt.plot(frontier_x,frontier_y, 'r--', linewidth=3)\r\n",
        "plt.savefig('cover.png')\r\n",
        "plt.show()"
      ],
      "execution_count": 104,
      "outputs": [
        {
          "output_type": "display_data",
          "data": {
            "image/png": "[encoded data removed]",
            "text/plain": [
              "<Figure size 864x576 with 2 Axes>"
            ]
          },
          "metadata": {
            "tags": [],
            "needs_background": "light"
          }
        }
      ]
    },
    {
      "cell_type": "code",
      "metadata": {
        "id": "yjdtnFe5E0iI"
      },
      "source": [
        ""
      ],
      "execution_count": null,
      "outputs": []
    }
  ]
}